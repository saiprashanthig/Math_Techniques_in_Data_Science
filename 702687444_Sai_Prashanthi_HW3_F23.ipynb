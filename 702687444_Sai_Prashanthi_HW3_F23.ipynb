{
  "cells": [
    {
      "cell_type": "markdown",
      "metadata": {
        "id": "view-in-github",
        "colab_type": "text"
      },
      "source": [
        "<a href=\"https://colab.research.google.com/github/saiprashanthig/Math_Techniques_in_Data_Science/blob/Homework/702687444_Sai_Prashanthi_HW3_F23.ipynb\" target=\"_parent\"><img src=\"https://colab.research.google.com/assets/colab-badge.svg\" alt=\"Open In Colab\"/></a>"
      ]
    },
    {
      "cell_type": "markdown",
      "metadata": {
        "id": "63GSckRspoZJ"
      },
      "source": [
        "*   Student name: **[Sai Prashanthi G]**\n",
        "*   Student ID: **[702687444]**\n",
        "*   Collaborator(s): **[None]**"
      ]
    },
    {
      "cell_type": "markdown",
      "metadata": {
        "id": "LAOd-J7cm8UD"
      },
      "source": [
        "# MATH637-011 Homework 3 (10% total grade)\n",
        "\n",
        "## **Deadline: 10/27/2023 11:59 PM**\n",
        "\n",
        "In this homework, we will train and test a simple convolutional neural network on the [Fashion MNIST dataset](https://www.tensorflow.org/tutorials/keras/classification) using Keras. This dataset contains grayscale images of 10 different fashion categories.\n"
      ]
    },
    {
      "cell_type": "markdown",
      "metadata": {
        "id": "I9FVTiMOqh2Q"
      },
      "source": [
        "## 1. Download and load dataset (1% total grade)\n",
        "\n",
        "Read [this API](https://www.tensorflow.org/api_docs/python/tf/keras/datasets/fashion_mnist/load_data) and use the function `fashion_mnist.load_data()` to download and load the data into the variables: `X_train, Y_train, X_test, Y_test`.\n",
        "\n",
        "You should make sure that the shapes of `X_train, Y_train, X_test, Y_test` are `(60000, 28, 28) (60000,), (10000, 28, 28), (10000,)` respectively."
      ]
    },
    {
      "cell_type": "code",
      "execution_count": null,
      "metadata": {
        "id": "KAHH-eJ3--7p",
        "colab": {
          "base_uri": "https://localhost:8080/"
        },
        "outputId": "290243e6-7e19-4324-bb2a-c8f128fb0862"
      },
      "outputs": [
        {
          "output_type": "stream",
          "name": "stdout",
          "text": [
            "(60000, 28, 28) (60000,)\n",
            "(10000, 28, 28) (10000,)\n"
          ]
        }
      ],
      "source": [
        "from keras.datasets import fashion_mnist\n",
        "(X_train, Y_train), (X_test, Y_test) = fashion_mnist.load_data()\n",
        "print(X_train.shape, Y_train.shape)\n",
        "print(X_test.shape, Y_test.shape)"
      ]
    },
    {
      "cell_type": "markdown",
      "metadata": {
        "id": "rqfMVG7eptgc"
      },
      "source": [
        "## 2. Convert pixel values to range [0, 1] (1% total grade)\n",
        "\n",
        "The pixel values of your loaded images are integers in `[0, 255]`, while classifiers usually require real-valued pixels in `[0, 1]` to work well.\n",
        "\n",
        "Write code to convert the train and test images' pixels in `X_train` and `X_test` to range `[0, 1]` by dividing all pixels by `255.0`."
      ]
    },
    {
      "cell_type": "code",
      "source": [
        "X_train = X_train.astype('float32') / 255\n",
        "X_test = X_test.astype('float32') / 255"
      ],
      "metadata": {
        "id": "mDeRYVScT2jJ"
      },
      "execution_count": null,
      "outputs": []
    },
    {
      "cell_type": "markdown",
      "metadata": {
        "id": "T6YYnrn9sdzT"
      },
      "source": [
        "## 3. Inspect some train images and labels (1% total grade)\n",
        "\n",
        "Given a variable `img_id`, write code to:\n",
        "*   Plot the input image at index `img_id` in the training set.\n",
        "*   And print out the label string of this image.\n",
        "\n",
        "You can vary `img_id` to see different input images and the corresponding labels. (Choose a value for `img_id` to run the code; you don't have to write a function)."
      ]
    },
    {
      "cell_type": "code",
      "execution_count": null,
      "metadata": {
        "id": "Mv6LYmgX_FAf",
        "colab": {
          "base_uri": "https://localhost:8080/",
          "height": 448
        },
        "outputId": "aa7b4b0a-2bdb-440c-a02f-cf5b50a60908"
      },
      "outputs": [
        {
          "output_type": "display_data",
          "data": {
            "text/plain": [
              "<Figure size 640x480 with 1 Axes>"
            ],
            "image/png": "[encoded data removed]"
          },
          "metadata": {}
        },
        {
          "output_type": "stream",
          "name": "stdout",
          "text": [
            "Sandal\n"
          ]
        }
      ],
      "source": [
        "import matplotlib.pyplot as plt\n",
        "\n",
        "img_id = 9\n",
        "image = X_train[img_id]\n",
        "label = Y_train[img_id]\n",
        "\n",
        "label_str=['T-shirt/top','Trouser','Pullover','Dress','Coat','Sandal','Shirt','Sneaker','Bag','Ankle boot']\n",
        "\n",
        "plt.imshow(image)\n",
        "plt.show()\n",
        "print(label_str[label])"
      ]
    },
    {
      "cell_type": "markdown",
      "metadata": {
        "id": "Xk_e07lGstPy"
      },
      "source": [
        "## 4. Reshape input images (1% total grade)\n",
        "\n",
        "To train and test a CNN model,\n",
        "each input image must have 3 dimensions (height, width, channel). However, the images in `X_train` and `X_test` only have 2 dimensions currently (height, width). Write code to reshape `X_train` and `X_test` to include one additional dimension for the channel.\n",
        "\n",
        "The new shapes for `X_train` and `X_test` should be `(60000, 28, 28, 1)` and `(10000, 28, 28, 1)`."
      ]
    },
    {
      "cell_type": "code",
      "execution_count": null,
      "metadata": {
        "id": "3xqK_ln-_GbM",
        "colab": {
          "base_uri": "https://localhost:8080/"
        },
        "outputId": "77854394-2248-47cc-9e2a-ddc53804827a"
      },
      "outputs": [
        {
          "output_type": "stream",
          "name": "stdout",
          "text": [
            "(60000, 28, 28, 1) (60000,)\n",
            "(10000, 28, 28, 1) (10000,)\n"
          ]
        }
      ],
      "source": [
        "import numpy as np\n",
        "X_train = np.reshape(X_train, (X_train.shape[0], X_train.shape[1], X_train.shape[2], 1))\n",
        "X_test = np.reshape(X_test, (X_test.shape[0], X_test.shape[1], X_test.shape[2], 1))\n",
        "print(X_train.shape, Y_train.shape)\n",
        "print(X_test.shape, Y_test.shape)"
      ]
    },
    {
      "cell_type": "markdown",
      "metadata": {
        "id": "6nmn-qiHszwG"
      },
      "source": [
        "## 5. Convert label vectors into one-hot encodings (1% total grade)\n",
        "\n",
        "To train/test a model with Keras, the labels have to be in one-hot encoding format. Write code to convert the train and test label vectors into one-hot encodings."
      ]
    },
    {
      "cell_type": "code",
      "source": [
        "from tensorflow import keras\n",
        "from keras import layers"
      ],
      "metadata": {
        "id": "7ddLywg5YTx8"
      },
      "execution_count": null,
      "outputs": []
    },
    {
      "cell_type": "code",
      "execution_count": null,
      "metadata": {
        "id": "MldIEvpK_Im8"
      },
      "outputs": [],
      "source": [
        "num_classes = 10\n",
        "Y_train = keras.utils.to_categorical(Y_train, num_classes)\n",
        "Y_test = keras.utils.to_categorical(Y_test, num_classes)"
      ]
    },
    {
      "cell_type": "markdown",
      "metadata": {
        "id": "e3beHBBas5n8"
      },
      "source": [
        "## 6. Define the CNN model (2% total grade)\n",
        "\n",
        "Write code to define a CNN model with:\n",
        "*   1 convolutional layer with 16 3x3 filters, `relu` activation, and `same` padding. Be sure to set the correct `input_shape` for this dataset.\n",
        "*   1 max pooling layer with a 2x2 filter.\n",
        "*   Then the resulting tensor is flattened into a vector.\n",
        "*   The flattened vector is put through a Dense layer with 50 hidden nodes and `relu` activation.\n",
        "*   Finally, a Dense output layer with 10 output labels and `softmax` activation."
      ]
    },
    {
      "cell_type": "code",
      "execution_count": null,
      "metadata": {
        "id": "zNY-FEZ__KYf"
      },
      "outputs": [],
      "source": [
        "from tensorflow import keras\n",
        "from keras.layers import Conv2D\n",
        "from keras.layers import MaxPooling2D\n",
        "from keras.models import Sequential\n",
        "\n",
        "model = Sequential()\n",
        "model.add(Conv2D(16,activation='relu', padding=\"same\",kernel_size =(3, 3), input_shape=(28, 28, 1)))\n",
        "model.add(MaxPooling2D(pool_size=(2,2)))\n",
        "model.add(layers.Flatten())\n",
        "model.add(layers.Dense(50, activation='relu'))\n",
        "#To add an output layer for classification with 10 classes and softmax activation:\n",
        "num_classes = 10\n",
        "model.add(layers.Dense(num_classes, activation='softmax'))"
      ]
    },
    {
      "cell_type": "code",
      "source": [
        "model.summary()"
      ],
      "metadata": {
        "colab": {
          "base_uri": "https://localhost:8080/"
        },
        "id": "GTgIW4Q6dI_r",
        "outputId": "853b8f0e-38bc-4285-beec-df002de7555e"
      },
      "execution_count": null,
      "outputs": [
        {
          "output_type": "stream",
          "name": "stdout",
          "text": [
            "Model: \"sequential_1\"\n",
            "_________________________________________________________________\n",
            " Layer (type)                Output Shape              Param #   \n",
            "=================================================================\n",
            " conv2d_1 (Conv2D)           (None, 28, 28, 16)        160       \n",
            "                                                                 \n",
            " max_pooling2d_1 (MaxPoolin  (None, 14, 14, 16)        0         \n",
            " g2D)                                                            \n",
            "                                                                 \n",
            " flatten_1 (Flatten)         (None, 3136)              0         \n",
            "                                                                 \n",
            " dense_2 (Dense)             (None, 50)                156850    \n",
            "                                                                 \n",
            " dense_3 (Dense)             (None, 10)                510       \n",
            "                                                                 \n",
            "=================================================================\n",
            "Total params: 157520 (615.31 KB)\n",
            "Trainable params: 157520 (615.31 KB)\n",
            "Non-trainable params: 0 (0.00 Byte)\n",
            "_________________________________________________________________\n"
          ]
        }
      ]
    },
    {
      "cell_type": "markdown",
      "metadata": {
        "id": "g0GYIi5as-kW"
      },
      "source": [
        "## 7. Compile the model (1% total grade)\n",
        "\n",
        "Write code to compile the model with `loss='categorical_crossentropy'`, `optimizer='sgd'`, and `metrics=['accuracy']`."
      ]
    },
    {
      "cell_type": "code",
      "source": [
        "model.compile(loss=\"categorical_crossentropy\", optimizer=\"sgd\", metrics=[\"accuracy\"])"
      ],
      "metadata": {
        "id": "SOK3CcnudX4T"
      },
      "execution_count": null,
      "outputs": []
    },
    {
      "cell_type": "markdown",
      "metadata": {
        "id": "DOeaMVkKtC6D"
      },
      "source": [
        "## 8. Train the model (1% total grade)\n",
        "\n",
        "Write code to train the model for 10 epochs and with batch_size=128."
      ]
    },
    {
      "cell_type": "code",
      "execution_count": null,
      "metadata": {
        "id": "bvUK8objk_oh",
        "colab": {
          "base_uri": "https://localhost:8080/"
        },
        "outputId": "8856e22f-0953-4322-a011-088c9e629ad0"
      },
      "outputs": [
        {
          "output_type": "stream",
          "name": "stdout",
          "text": [
            "Epoch 1/10\n",
            "422/422 [==============================] - 3s 5ms/step - loss: 1.1706 - accuracy: 0.6103 - val_loss: 0.6757 - val_accuracy: 0.7610\n",
            "Epoch 2/10\n",
            "422/422 [==============================] - 2s 5ms/step - loss: 0.6240 - accuracy: 0.7800 - val_loss: 0.5846 - val_accuracy: 0.7837\n",
            "Epoch 3/10\n",
            "422/422 [==============================] - 2s 4ms/step - loss: 0.5492 - accuracy: 0.8046 - val_loss: 0.5155 - val_accuracy: 0.8103\n",
            "Epoch 4/10\n",
            "422/422 [==============================] - 2s 4ms/step - loss: 0.5155 - accuracy: 0.8162 - val_loss: 0.4964 - val_accuracy: 0.8195\n",
            "Epoch 5/10\n",
            "422/422 [==============================] - 2s 5ms/step - loss: 0.4890 - accuracy: 0.8261 - val_loss: 0.5029 - val_accuracy: 0.8152\n",
            "Epoch 6/10\n",
            "422/422 [==============================] - 2s 6ms/step - loss: 0.4723 - accuracy: 0.8342 - val_loss: 0.4615 - val_accuracy: 0.8372\n",
            "Epoch 7/10\n",
            "422/422 [==============================] - 3s 7ms/step - loss: 0.4556 - accuracy: 0.8403 - val_loss: 0.4457 - val_accuracy: 0.8408\n",
            "Epoch 8/10\n",
            "422/422 [==============================] - 2s 5ms/step - loss: 0.4459 - accuracy: 0.8423 - val_loss: 0.4457 - val_accuracy: 0.8377\n",
            "Epoch 9/10\n",
            "422/422 [==============================] - 2s 5ms/step - loss: 0.4333 - accuracy: 0.8498 - val_loss: 0.4316 - val_accuracy: 0.8455\n",
            "Epoch 10/10\n",
            "422/422 [==============================] - 2s 6ms/step - loss: 0.4253 - accuracy: 0.8520 - val_loss: 0.4179 - val_accuracy: 0.8508\n"
          ]
        },
        {
          "output_type": "execute_result",
          "data": {
            "text/plain": [
              "<keras.src.callbacks.History at 0x7f84302867d0>"
            ]
          },
          "metadata": {},
          "execution_count": 23
        }
      ],
      "source": [
        "batch_size = 128\n",
        "epochs = 10\n",
        "model.fit(X_train, Y_train, batch_size=batch_size, epochs=epochs, validation_split=0.1)"
      ]
    },
    {
      "cell_type": "markdown",
      "metadata": {
        "id": "fJXv0PP5tHR7"
      },
      "source": [
        "## 9. Evaluate the trained model on test set (1% total grade)\n",
        "\n",
        "Write code to compute and print out the accuracy of the model on test set."
      ]
    },
    {
      "cell_type": "code",
      "execution_count": null,
      "metadata": {
        "id": "CO73WAFek1fW",
        "colab": {
          "base_uri": "https://localhost:8080/"
        },
        "outputId": "ae0bfe5a-aad5-41b4-cea5-860598a88b37"
      },
      "outputs": [
        {
          "output_type": "stream",
          "name": "stdout",
          "text": [
            "313/313 [==============================] - 1s 3ms/step - loss: 0.4397 - accuracy: 0.8428\n",
            "Test accuracy is : 0.8428000211715698\n"
          ]
        }
      ],
      "source": [
        "test_loss, test_accuracy = model.evaluate(X_test, Y_test)\n",
        "print(\"Test accuracy is :\" , test_accuracy)"
      ]
    },
    {
      "cell_type": "markdown",
      "metadata": {
        "id": "OJQ8vh-PtQoz"
      },
      "source": [
        "## 10. Bonus: Plot some test images and compare true labels with predicted labels\n",
        "\n",
        "(This is just for fun though. If you make a mistake somewhere then I can consider this for more credits).\n",
        "\n",
        "Given the `img_id` variable:\n",
        "*   Plot the image with index `img_id` in your **test set**.\n",
        "*   Print out the true label string of the image.\n",
        "*   Print out the predicted label string of the image (computed from your trained model above).\n",
        "\n",
        "See below for a sample output."
      ]
    },
    {
      "cell_type": "code",
      "source": [
        "Y_predict_test= model.predict(X_test)\n",
        "Y_predict_test_final=np.argmax(Y_predict_test, axis=1)\n",
        "Y_test=np.argmax(Y_test, axis=1)\n",
        "\n",
        "img_id = 125\n",
        "image = X_test[img_id]\n",
        "plt.imshow(image)\n",
        "plt.show()\n",
        "\n",
        "print(\"True label is \", label_str[Y_predict_test_final[img_id]])\n",
        "print(\"Predicted label is \", label_str[Y_test[img_id]])\n"
      ],
      "metadata": {
        "colab": {
          "base_uri": "https://localhost:8080/",
          "height": 485
        },
        "id": "lmWynzrzd_5D",
        "outputId": "24e4bec1-2c6b-481f-ebae-f86e72d935ff"
      },
      "execution_count": null,
      "outputs": [
        {
          "output_type": "stream",
          "name": "stdout",
          "text": [
            "313/313 [==============================] - 1s 2ms/step\n"
          ]
        },
        {
          "output_type": "display_data",
          "data": {
            "text/plain": [
              "<Figure size 640x480 with 1 Axes>"
            ],
            "image/png": "[encoded data removed]"
          },
          "metadata": {}
        },
        {
          "output_type": "stream",
          "name": "stdout",
          "text": [
            "True label is  T-shirt/top\n",
            "Predicted label is  T-shirt/top\n"
          ]
        }
      ]
    }
  ],
  "metadata": {
    "colab": {
      "provenance": [],
      "gpuType": "T4",
      "include_colab_link": true
    },
    "kernelspec": {
      "display_name": "Python 3",
      "name": "python3"
    },
    "language_info": {
      "name": "python"
    },
    "accelerator": "GPU"
  },
  "nbformat": 4,
  "nbformat_minor": 0
}