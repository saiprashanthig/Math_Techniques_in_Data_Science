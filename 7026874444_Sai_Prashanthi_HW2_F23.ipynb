{
  "nbformat": 4,
  "nbformat_minor": 0,
  "metadata": {
    "colab": {
      "provenance": [],
      "include_colab_link": true
    },
    "kernelspec": {
      "name": "python3",
      "display_name": "Python 3"
    },
    "language_info": {
      "name": "python"
    }
  },
  "cells": [
    {
      "cell_type": "markdown",
      "metadata": {
        "id": "view-in-github",
        "colab_type": "text"
      },
      "source": [
        "<a href=\"https://colab.research.google.com/github/saiprashanthig/Math_Techniques_in_Data_Science/blob/main/7026874444_Sai_Prashanthi_HW2_F23.ipynb\" target=\"_parent\"><img src=\"https://colab.research.google.com/assets/colab-badge.svg\" alt=\"Open In Colab\"/></a>"
      ]
    },
    {
      "cell_type": "markdown",
      "metadata": {
        "id": "Qus7cy7B72R2"
      },
      "source": [
        "*   Student name: **[Sai Prashanthi G]**\n",
        "*   UD ID: **[702687444]**\n",
        "*   Collaborator(s): **[None]**"
      ]
    },
    {
      "cell_type": "markdown",
      "metadata": {
        "id": "Q6bSH8zsrTrk"
      },
      "source": [
        "# MATH637-011 Homework 2 (10% total grade)\n",
        "\n",
        "## **Deadline: 10/13/2023 11:59 PM**\n"
      ]
    },
    {
      "cell_type": "markdown",
      "metadata": {
        "id": "go4K2HWl1Vua"
      },
      "source": [
        "We consider a neural network with two inputs, 1 hidden layer with 3 hidden nodes, and one output. We are using the ReLU activation function at the hidden nodes. Mathematically, this can be represented as:\n",
        "\n",
        "$$\n",
        "h = \\sigma \\left( W^T x + b\\right), ~~~ z = V^T h + c\n",
        "$$\n",
        "\n",
        "where $\\sigma$ denotes the ReLU activation and\n",
        "\n",
        "$~~~~~~~~W =\n",
        "\\begin{bmatrix}\n",
        "w_{11} & w_{12} & w_{13} \\\\\n",
        "w_{21} & w_{22} & w_{23}\n",
        "\\end{bmatrix},~\n",
        "$\n",
        "$b =\n",
        "\\begin{bmatrix}\n",
        "b_{1}\\\\\n",
        "b_{2}\\\\\n",
        "b_{3}\n",
        "\\end{bmatrix},\n",
        "$\n",
        "$V = \\begin{bmatrix}\n",
        "v_{1}  \\\\\n",
        "v_{2}\\\\\n",
        "v_{3}\n",
        "\\end{bmatrix}$, c\n",
        "\n",
        "are the weights and the bias of the network. We will denote the output $z$ of this network as $f(\\theta, x)$.\n",
        "\n",
        "For a data point $(x, y)$, the loss function on this data point is defined as\n",
        "$$\n",
        "L(\\theta, x, y) = [f(\\theta, x) - y]^2.\n",
        "$$"
      ]
    },
    {
      "cell_type": "markdown",
      "metadata": {
        "id": "BhNRQLgI5eqq"
      },
      "source": [
        "# **Part 1: Define the forward map** (3pts)\n",
        "\n",
        "Write a Python function to compute the forward map of the network."
      ]
    },
    {
      "cell_type": "code",
      "source": [
        "import numpy as np\n",
        "\n",
        "def relu(x):\n",
        "  if (x<0):\n",
        "    return 0\n",
        "  else:\n",
        "    return x\n",
        "\n",
        "def forward_map(theta, x,y):\n",
        "    # Extract parameters from theta\n",
        "    w11, w12, w13, w21, w22, w23,b1,b2,b3, v1, v2, v3,c = theta #all weights\n",
        "\n",
        "    # Extract input features\n",
        "    x1, x2 = x\n",
        "\n",
        "    # Compute intermediate values\n",
        "    h1 = relu(w11 * x1 + w21 * x2 + b1)\n",
        "    h2 = relu(w12 * x1 + w22 * x2 + b2)\n",
        "    h3 = relu(w13 * x1 + w23 * x2+b3)\n",
        "    z = v1 * h1 + v2 * h2 + v3 * h3 + c\n",
        "    L= (z-y) **2\n",
        "    return h1,h2,h3,z,L"
      ],
      "metadata": {
        "id": "4fo87ytwZ0-n"
      },
      "execution_count": null,
      "outputs": []
    },
    {
      "cell_type": "markdown",
      "metadata": {
        "id": "E-aQ5vGo9_0b"
      },
      "source": [
        "# **Part 2: Back-propagation** (4pts)\n",
        "\n",
        "Write a Python function to compute the derivative of  𝐿 with respect to all parameters of the network."
      ]
    },
    {
      "cell_type": "code",
      "metadata": {
        "id": "nbPZnM9ArqgK"
      },
      "source": [
        "def der_relu(x):\n",
        "  if (x<0):\n",
        "    return 0\n",
        "  else:\n",
        "    return 1\n",
        "\n",
        "def der_L (theta,x,y):\n",
        "  w11, w12, w13, w21, w22, w23,b1,b2,b3, v1, v2, v3,c = theta #all weights\n",
        "  h1,h2,h3,z,L = forward_map(theta, x,y)\n",
        "  x1,x2=x\n",
        "\n",
        "  v1_d= 2*(z-y)*h1\n",
        "  v2_d=2*(z-y)*h2\n",
        "  v3_d=2*(z-y)*h3\n",
        "  h1_d= 2*(z-y)*v1\n",
        "  h2_d=2*(z-y)*v2\n",
        "  h3_d=2*(z-y)*v3\n",
        "  w11_d= h1_d*x1*der_relu(w11 * x1 + w21 * x2 +b1)\n",
        "  w21_d= h1_d*x2*der_relu(w11 * x1 + w21 * x2+b1)\n",
        "  w12_d= h2_d*der_relu(w12 * x1 + w22 * x2 + b2)*x1\n",
        "  w22_d= h2_d*der_relu(w12 * x1 + w22 * x2 + b2)*x2\n",
        "  w13_d= h3_d*der_relu(w13 * x1 + w23 * x2+b3)*x1\n",
        "  w23_d= h3_d*der_relu(w13 * x1 + w23 * x2+b3)*x2\n",
        "  b1_d= h1_d* der_relu(w11 * x1 + w21 * x2 + b1)\n",
        "  b2_d= h2_d* der_relu(w12 * x1 + w22 * x2 + b2)\n",
        "  b3_d= h3_d* der_relu(w13 * x1 + w23 * x2+ b3)\n",
        "  c_d= 2*(z-y)\n",
        "  return w11_d, w12_d, w13_d, w21_d, w22_d, w23_d,b1_d,b2_d,b3_d, v1_d, v2_d, v3_d,c_d # returns L differentiated wrt all weights"
      ],
      "execution_count": null,
      "outputs": []
    },
    {
      "cell_type": "markdown",
      "metadata": {
        "id": "Cd2y0oup_442"
      },
      "source": [
        "## **Part 3: Gradient descent** (3pts)\n",
        "\n",
        "Consider the dataset of two data points:\n",
        "*   $x_1 = \\begin{bmatrix}\n",
        "-1 \\\\\n",
        "1\n",
        "\\end{bmatrix}$, and $y_1 = 60$.\n",
        "*   $x_2 = \\begin{bmatrix}\n",
        "-1 \\\\\n",
        "0.5\n",
        "\\end{bmatrix}$, and $y_2 = 20$.\n",
        "\n",
        "Define\n",
        "$$\n",
        "J(\\theta) = L(\\theta, x_1, y_1) + L(\\theta, x_2, y_2)$$\n",
        "\n",
        "Implement the following procedure\n",
        "\n",
        "*   Start at a random value of $\\theta$\n",
        "*   Perform 100 steps of gradient descent for the objective function $J(\\theta)$ with learning rate $\\rho = 0.005$\n",
        "*   Plot the value of the objective function over the steps"
      ]
    },
    {
      "cell_type": "code",
      "source": [
        "\n",
        "def forward_map_1(theta, x,y):\n",
        "    # Extract parameters from theta\n",
        "    w11, w12, w13, w21, w22, w23,b1,b2,b3, v1, v2, v3,c = theta #all weights\n",
        "\n",
        "    # Extract input features\n",
        "    x1, x2 = x\n",
        "\n",
        "    # Compute intermediate values\n",
        "    h1 = relu(w11 * x1 + w21 * x2 + b1)\n",
        "    h2 = relu(w12 * x1 + w22 * x2 + b2)\n",
        "    h3 = relu(w13 * x1 + w23 * x2+b3)\n",
        "    z = v1 * h1 + v2 * h2 + v3 * h3 + c\n",
        "    L= (z-y) **2\n",
        "    return L\n",
        "\n",
        "import random\n",
        "np.random.seed(25)\n",
        "x1 = np.array([-1, 1])\n",
        "y1 = 60\n",
        "x2 = np.array([-1, 0.5])\n",
        "y2 = 20\n",
        "theta = np.random.uniform(-1,1, 13)\n",
        "\n",
        "\n",
        "import matplotlib.pyplot as plt\n",
        "values_J=[]\n",
        "for i in range (1,100):\n",
        "  gradient_J = np.array(der_L(theta, x1, y1)) + np.array(der_L(theta, x2, y2))\n",
        "  theta = theta - 0.005 * gradient_J\n",
        "  L1 = forward_map_1(theta, x1,y1)\n",
        "  L2 = forward_map_1(theta, x2,y2)\n",
        "  J= L1 + L2\n",
        "  #print(J)\n",
        "  values_J.append(J)\n",
        "plt.plot(values_J)\n",
        "plt.ylabel('Objective Function')\n",
        "plt.xlabel('Steps')"
      ],
      "metadata": {
        "colab": {
          "base_uri": "https://localhost:8080/",
          "height": 468
        },
        "id": "6AvXalE6cYOI",
        "outputId": "1a0434c2-d8a4-4807-9624-d31a9b285c80"
      },
      "execution_count": null,
      "outputs": [
        {
          "output_type": "execute_result",
          "data": {
            "text/plain": [
              "Text(0.5, 0, 'Steps')"
            ]
          },
          "metadata": {},
          "execution_count": 3
        },
        {
          "output_type": "display_data",
          "data": {
            "text/plain": [
              "<Figure size 640x480 with 1 Axes>"
            ],
            "image/png": "[encoded data removed]"
          },
          "metadata": {}
        }
      ]
    }
  ]
}